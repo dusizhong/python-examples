{
 "cells": [
  {
   "cell_type": "code",
   "execution_count": 13,
   "metadata": {},
   "outputs": [
    {
     "name": "stdout",
     "output_type": "stream",
     "text": [
      "default_value\n",
      "{'messages': [HumanMessage(content='张家口', additional_kwargs={}, response_metadata={}, id='e43ed81d-24fa-40eb-9a9f-4d09d4be3de8'), AIMessage(content='', additional_kwargs={'tool_calls': [{'id': 'call_94j15q4o', 'function': {'arguments': '{\"query\":\"张家口\"}', 'name': 'tavily_search_results_json'}, 'type': 'function', 'index': 0}], 'refusal': None}, response_metadata={'token_usage': {'completion_tokens': 24, 'prompt_tokens': 188, 'total_tokens': 212, 'completion_tokens_details': None, 'prompt_tokens_details': None}, 'model_name': 'qwen2.5:7b', 'system_fingerprint': 'fp_ollama', 'finish_reason': 'tool_calls', 'logprobs': None}, id='run-7db3d95f-617a-4cd8-85f3-6c9f36c40766-0', tool_calls=[{'name': 'tavily_search_results_json', 'args': {'query': '张家口'}, 'id': 'call_94j15q4o', 'type': 'tool_call'}], usage_metadata={'input_tokens': 188, 'output_tokens': 24, 'total_tokens': 212, 'input_token_details': {}, 'output_token_details': {}}), ToolMessage(content='[{\"url\": \"https://zh.wikipedia.org/zh-hans/%E5%BC%A0%E5%AE%B6%E5%8F%A3%E5%B8%82\", \"content\": \"张家口市（邮政式拼音：Changchiakow/Kalgan），简称张；旧称张垣/万全，是中华人民共和国河北省下辖的地级市，位于河北省西北部。市境东毗承德市、北京市，南临保定市，西南界\"}, {\"url\": \"https://wuu.wikipedia.org/wiki/%E5%BC%A0%E5%AE%B6%E5%8F%A3%E5%B8%82\", \"content\": \"张家口市是一个立在东北亚到内亚当中个城市。乃朝属于中华人民共和国河北省管辖。是一个地级市。立在中华人民共和国首都北京个西北面。也是连接北京搭内蒙古个重要城市\"}]', name='tavily_search_results_json', id='dbf22651-3239-4f30-b660-7bdc09f7d060', tool_call_id='call_94j15q4o', artifact={'query': '张家口', 'follow_up_questions': None, 'answer': None, 'images': [], 'results': [{'url': 'https://zh.wikipedia.org/zh-hans/%E5%BC%A0%E5%AE%B6%E5%8F%A3%E5%B8%82', 'title': '张家口市- 维基百科，自由的百科全书', 'content': '张家口市（邮政式拼音：Changchiakow/Kalgan），简称张；旧称张垣/万全，是中华人民共和国河北省下辖的地级市，位于河北省西北部。市境东毗承德市、北京市，南临保定市，西南界', 'score': 0.8585411, 'raw_content': None}, {'url': 'https://wuu.wikipedia.org/wiki/%E5%BC%A0%E5%AE%B6%E5%8F%A3%E5%B8%82', 'title': '张家口市 - 维基百科', 'content': '张家口市是一个立在东北亚到内亚当中个城市。乃朝属于中华人民共和国河北省管辖。是一个地级市。立在中华人民共和国首都北京个西北面。也是连接北京搭内蒙古个重要城市', 'score': 0.707707525, 'raw_content': None}], 'response_time': 1.13}), AIMessage(content='根据我找到的信息，张家口市是中华人民共和国河北省下辖的地级市，位于河北省的西北部。它东临承德市和北京市，南接保定市，西南界。该市是一个在东北亚到内亚之间的重要城市，并且是连接北京与内蒙古的重要节点。\\n\\n您可以访问以下链接了解更多信息：\\n1. [张家口市（中文维基百科）](https://zh.wikipedia.org/zh-hans/%E5%BC%A0%E5%AE%B6%E5%8F%A3%E5%B8%82)\\n2. [张家口市（吴语维基百科）](https://wuu.wikipedia.org/wiki/%E5%BC%A0%E5%AE%B6%E5%8F%A3%E5%B8%82)', additional_kwargs={'refusal': None}, response_metadata={'token_usage': {'completion_tokens': 166, 'prompt_tokens': 422, 'total_tokens': 588, 'completion_tokens_details': None, 'prompt_tokens_details': None}, 'model_name': 'qwen2.5:7b', 'system_fingerprint': 'fp_ollama', 'finish_reason': 'stop', 'logprobs': None}, id='run-196faeb5-87aa-47c1-8748-ae3ff7758bf4-0', usage_metadata={'input_tokens': 422, 'output_tokens': 166, 'total_tokens': 588, 'input_token_details': {}, 'output_token_details': {}})]}\n"
     ]
    }
   ],
   "source": [
    "# 联网搜索agent示例\n",
    "# author: sizhong du\n",
    "# since: 2025-03-20\n",
    "\n",
    "import os\n",
    "\n",
    "# langsmith\n",
    "os.environ['LANGSMITH_TRACING']=\"true\"\n",
    "os.environ['LANGSMITH_ENDPOINT']=\"https://api.smith.langchain.com\"\n",
    "os.environ['LANGSMITH_API_KEY']=\"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\"\n",
    "os.environ['LANGSMITH_PROJECT']=\"pr-potable-experiment-71\"\n",
    "print(os.getenv('LANGCHAIN_PROJECT', 'default_value'))\n",
    "from langsmith.wrappers import wrap_openai\n",
    "\n",
    "# 加载搜索引擎 tavily search\n",
    "# pip install -U tavily-python langchain_community\n",
    "# 在https://tavily.com注册账号，获取key，写入环境变量中\n",
    "os.environ[\"TAVILY_API_KEY\"] = \"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\"\n",
    "\n",
    "# 定义搜索工具\n",
    "from langchain_community.tools.tavily_search import TavilySearchResults\n",
    "search = TavilySearchResults(max_results=2)\n",
    "# search_results = search.invoke(\"what is the weather in SF\")\n",
    "# print(search_results)\n",
    "tools = [search]\n",
    "\n",
    "# 加载LLM\n",
    "from langchain_openai import ChatOpenAI\n",
    "llm = ChatOpenAI(model = \"qwen2.5:7b\", base_url = \"http://192.168.31.5:11434/v1\", api_key = \"ollama\")\n",
    "\n",
    "# 创建代理\n",
    "from langgraph.prebuilt import create_react_agent\n",
    "agent_executor = create_react_agent(llm, tools)\n",
    "\n",
    "# 测试\n",
    "result = agent_executor.invoke({\"messages\": [HumanMessage(content=\"今天石家庄的天气怎么样\")]})\n",
    "print(result)\n"
   ]
  }
 ],
 "metadata": {
  "kernelspec": {
   "display_name": "study",
   "language": "python",
   "name": "python3"
  },
  "language_info": {
   "codemirror_mode": {
    "name": "ipython",
    "version": 3
   },
   "file_extension": ".py",
   "mimetype": "text/x-python",
   "name": "python",
   "nbconvert_exporter": "python",
   "pygments_lexer": "ipython3",
   "version": "3.10.16"
  }
 },
 "nbformat": 4,
 "nbformat_minor": 2
}
