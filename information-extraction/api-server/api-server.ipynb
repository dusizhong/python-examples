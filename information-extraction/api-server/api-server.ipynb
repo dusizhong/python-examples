{
 "cells": [
  {
   "cell_type": "code",
   "execution_count": 1,
   "metadata": {},
   "outputs": [],
   "source": [
    "# api server example\n",
    "# author: sizhong du\n",
    "# since: 2025-03-10\n",
    "\n",
    "# 安装\n",
    "# pip install \"fastapi[standard]\"\n",
    "\n",
    "# 运行\n",
    "# fastapi dev main.py\n",
    "# 访问\n",
    "# http://127.0.0.1:8000/docs\n",
    "\n",
    "# 示例\n",
    "from fastapi import FastAPI\n",
    "\n",
    "app = FastAPI()\n",
    "\n",
    "@app.get(\"/\")\n",
    "async def read_root():\n",
    "    return {\"message\": \"Hello, World!\"}\n"
   ]
  }
 ],
 "metadata": {
  "kernelspec": {
   "display_name": "study",
   "language": "python",
   "name": "python3"
  },
  "language_info": {
   "codemirror_mode": {
    "name": "ipython",
    "version": 3
   },
   "file_extension": ".py",
   "mimetype": "text/x-python",
   "name": "python",
   "nbconvert_exporter": "python",
   "pygments_lexer": "ipython3",
   "version": "3.11.9"
  }
 },
 "nbformat": 4,
 "nbformat_minor": 2
}
