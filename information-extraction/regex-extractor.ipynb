{
 "cells": [
  {
   "cell_type": "code",
   "execution_count": 1,
   "metadata": {},
   "outputs": [
    {
     "name": "stdout",
     "output_type": "stream",
     "text": [
      "    姓名      去向\n",
      "0   张华    北京大学\n",
      "1   丽萍  中等技术学校\n",
      "2  韩梅梅    百货公司\n"
     ]
    }
   ],
   "source": [
    "import re\n",
    "import pandas as pd\n",
    "\n",
    "data='''\n",
    "张华考上了北京大学\n",
    "丽萍进了中等技术学校\n",
    "韩梅梅进了百货公司\n",
    "他们都有光明的前途\n",
    "'''\n",
    "\n",
    "regex=r'(.*)[考|进].*了(.*)'\n",
    "mylist=[]\n",
    "for line in data.split('\\n'):\n",
    "    mysearch=re.search(regex,line)\n",
    "    if mysearch:\n",
    "        name=mysearch.group(1)\n",
    "        dest=mysearch.group(2)\n",
    "        mylist.append((name,dest))\n",
    "df=pd.DataFrame(mylist)\n",
    "df.columns=['姓名','去向']\n",
    "print(df)"
   ]
  }
 ],
 "metadata": {
  "kernelspec": {
   "display_name": "study",
   "language": "python",
   "name": "python3"
  },
  "language_info": {
   "codemirror_mode": {
    "name": "ipython",
    "version": 3
   },
   "file_extension": ".py",
   "mimetype": "text/x-python",
   "name": "python",
   "nbconvert_exporter": "python",
   "pygments_lexer": "ipython3",
   "version": "3.11.9"
  }
 },
 "nbformat": 4,
 "nbformat_minor": 2
}
