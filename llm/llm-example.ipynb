{
 "cells": [
  {
   "cell_type": "code",
   "execution_count": 1,
   "metadata": {},
   "outputs": [
    {
     "name": "stdout",
     "output_type": "stream",
     "text": [
      "ChoiceDelta(content='', function_call=None, refusal=None, role='assistant', tool_calls=None)\n",
      "ChoiceDelta(content='我是', function_call=None, refusal=None, role=None, tool_calls=None)\n",
      "ChoiceDelta(content='来自', function_call=None, refusal=None, role=None, tool_calls=None)\n",
      "ChoiceDelta(content='阿里', function_call=None, refusal=None, role=None, tool_calls=None)\n",
      "ChoiceDelta(content='云', function_call=None, refusal=None, role=None, tool_calls=None)\n",
      "ChoiceDelta(content='的大', function_call=None, refusal=None, role=None, tool_calls=None)\n",
      "ChoiceDelta(content='规模', function_call=None, refusal=None, role=None, tool_calls=None)\n",
      "ChoiceDelta(content='语言', function_call=None, refusal=None, role=None, tool_calls=None)\n",
      "ChoiceDelta(content='模型', function_call=None, refusal=None, role=None, tool_calls=None)\n",
      "ChoiceDelta(content='，', function_call=None, refusal=None, role=None, tool_calls=None)\n",
      "ChoiceDelta(content='我', function_call=None, refusal=None, role=None, tool_calls=None)\n",
      "ChoiceDelta(content='叫', function_call=None, refusal=None, role=None, tool_calls=None)\n",
      "ChoiceDelta(content='通', function_call=None, refusal=None, role=None, tool_calls=None)\n",
      "ChoiceDelta(content='义', function_call=None, refusal=None, role=None, tool_calls=None)\n",
      "ChoiceDelta(content='千', function_call=None, refusal=None, role=None, tool_calls=None)\n",
      "ChoiceDelta(content='问', function_call=None, refusal=None, role=None, tool_calls=None)\n",
      "ChoiceDelta(content='。', function_call=None, refusal=None, role=None, tool_calls=None)\n",
      "ChoiceDelta(content=None, function_call=None, refusal=None, role=None, tool_calls=None)\n",
      "ChoiceDelta(content='', function_call=None, refusal=None, role=None, tool_calls=None)\n",
      "CompletionUsage(completion_tokens=17, prompt_tokens=21, total_tokens=38, completion_tokens_details=CompletionTokensDetails(accepted_prediction_tokens=None, audio_tokens=None, reasoning_tokens=None, rejected_prediction_tokens=None, text_tokens=17), prompt_tokens_details=PromptTokensDetails(audio_tokens=None, cached_tokens=None, text_tokens=21))\n"
     ]
    }
   ],
   "source": [
    "## 百炼api调用示例\n",
    "## 20250224\n",
    "\n",
    "import os\n",
    "from openai import OpenAI\n",
    "\n",
    "client = OpenAI(\n",
    "    # 若没有配置环境变量，请用百炼API Key将下行替换为：api_key=\"sk-xxx\",\n",
    "    # api_key=os.getenv(\"DASHSCOPE_API_KEY\"),\n",
    "    api_key = \"sk-a5c5eb662fa64bb0b50e25765808d9f1\",\n",
    "    base_url=\"https://dashscope.aliyuncs.com/compatible-mode/v1\",\n",
    ")\n",
    "\n",
    "completion = client.chat.completions.create(\n",
    "    model=\"qwen-omni-turbo\",\n",
    "    messages=[{\"role\": \"user\", \"content\": \"你是谁\"}],\n",
    "    # 设置输出数据的模态，当前支持两种：[\"text\",\"audio\"]、[\"text\"]\n",
    "    # modalities=[\"text\", \"audio\"],\n",
    "    # audio={\"voice\": \"Cherry\", \"format\": \"wav\"},\n",
    "    # stream 必须设置为 True，否则会报错\n",
    "    stream=True,\n",
    "    stream_options={\"include_usage\": True},\n",
    ")\n",
    "\n",
    "for chunk in completion:\n",
    "    if chunk.choices:\n",
    "        print(chunk.choices[0].delta)\n",
    "    else:\n",
    "        print(chunk.usage)"
   ]
  }
 ],
 "metadata": {
  "kernelspec": {
   "display_name": "study",
   "language": "python",
   "name": "python3"
  },
  "language_info": {
   "codemirror_mode": {
    "name": "ipython",
    "version": 3
   },
   "file_extension": ".py",
   "mimetype": "text/x-python",
   "name": "python",
   "nbconvert_exporter": "python",
   "pygments_lexer": "ipython3",
   "version": "3.11.9"
  }
 },
 "nbformat": 4,
 "nbformat_minor": 2
}
